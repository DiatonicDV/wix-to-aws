{
 "cells": [
  {
   "cell_type": "code",
   "execution_count": 1,
   "metadata": {},
   "outputs": [],
   "source": [
    "import json"
   ]
  },
  {
   "cell_type": "code",
   "execution_count": 6,
   "metadata": {},
   "outputs": [],
   "source": [
    "#open json\n",
    "f = open('wix-webhooks-event-conversion.json')\n",
    "data = json.load(f)"
   ]
  },
  {
   "cell_type": "code",
   "execution_count": 22,
   "metadata": {},
   "outputs": [
    {
     "data": {
      "text/plain": [
       "{'plan_valid_until': \"Fino all 'annullamento\",\n",
       " 'site_email': 'contatti@weavingtech.net',\n",
       " 'plan_order_id': 'f8472e51-eff9-4cf3-9a7c-3a8f504e2ecd',\n",
       " 'context': {'metaSiteId': 'be57c73f-a509-4490-a1f5-a45da5cc5043',\n",
       "  'activationId': 'dd8b0adc-a15c-40cf-ae72-9d37090b8c4d'},\n",
       " '_context': {'activation': {'id': 'dd8b0adc-a15c-40cf-ae72-9d37090b8c4d'},\n",
       "  'configuration': {'id': '0655f07d-6608-4fc6-9bfa-cfc706a9e2bd'},\n",
       "  'app': {'id': '1522827f-c56c-a5c9-2ac9-00f9e6ae12d3'},\n",
       "  'action': {'id': 'f96325e4-7ca7-d3e1-47f6-3598f82f5e9c'},\n",
       "  'trigger': {'key': 'wix_pricing_plans-plan_purchased'}},\n",
       " 'plan_description': 'Per chi vuole provare i vantaggi sui propri pazienti',\n",
       " 'contact': {'emails': [{'id': '60ca6a5e-d6d1-40f8-8038-d50319e9716d',\n",
       "    'tag': 'UNTAGGED',\n",
       "    'email': 'lafaceros@gmail.com',\n",
       "    'primary': True}],\n",
       "  'phone': '',\n",
       "  'email': 'lafaceros@gmail.com'},\n",
       " 'plan_id': 'ae0a2d10-07c5-4315-840d-aa74ccd1101f',\n",
       " 'site_name': 'Weaving Tech',\n",
       " 'plan_title': 'Free',\n",
       " 'plan_price': {'value': '0', 'currency': 'EUR'},\n",
       " 'plan_start_date': '27/04/24',\n",
       " 'contact_id': '4ab125c1-02c9-44f1-9baf-2080b77186ff',\n",
       " 'plan_cycle_duration': ''}"
      ]
     },
     "execution_count": 22,
     "metadata": {},
     "output_type": "execute_result"
    }
   ],
   "source": [
    "json.loads(data['body'].replace(\"\\\\\",\" \"))['data']"
   ]
  },
  {
   "cell_type": "code",
   "execution_count": 23,
   "metadata": {},
   "outputs": [
    {
     "data": {
      "text/plain": [
       "'Free'"
      ]
     },
     "execution_count": 23,
     "metadata": {},
     "output_type": "execute_result"
    }
   ],
   "source": [
    "json.loads(data['body'].replace(\"\\\\\",\" \"))['data']['plan_title']"
   ]
  },
  {
   "cell_type": "code",
   "execution_count": 21,
   "metadata": {},
   "outputs": [
    {
     "data": {
      "text/plain": [
       "'lafaceros@gmail.com'"
      ]
     },
     "execution_count": 21,
     "metadata": {},
     "output_type": "execute_result"
    }
   ],
   "source": [
    "json.loads(data['body'].replace(\"\\\\\",\" \"))['data']['contact']['email']"
   ]
  },
  {
   "cell_type": "code",
   "execution_count": null,
   "metadata": {},
   "outputs": [],
   "source": []
  }
 ],
 "metadata": {
  "kernelspec": {
   "display_name": "Python 3",
   "language": "python",
   "name": "python3"
  },
  "language_info": {
   "codemirror_mode": {
    "name": "ipython",
    "version": 3
   },
   "file_extension": ".py",
   "mimetype": "text/x-python",
   "name": "python",
   "nbconvert_exporter": "python",
   "pygments_lexer": "ipython3",
   "version": "3.12.3"
  }
 },
 "nbformat": 4,
 "nbformat_minor": 2
}
