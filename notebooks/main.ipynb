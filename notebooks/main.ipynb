{
 "cells": [
  {
   "cell_type": "code",
   "execution_count": 18,
   "metadata": {},
   "outputs": [],
   "source": [
    "import json"
   ]
  },
  {
   "cell_type": "code",
   "execution_count": 19,
   "metadata": {},
   "outputs": [],
   "source": [
    "#open json\n",
    "f = open('wix-webhooks-event-conversion.json')\n",
    "data = json.load(f)"
   ]
  },
  {
   "cell_type": "code",
   "execution_count": 20,
   "metadata": {},
   "outputs": [
    {
     "data": {
      "text/plain": [
       "dict"
      ]
     },
     "execution_count": 20,
     "metadata": {},
     "output_type": "execute_result"
    }
   ],
   "source": [
    "type(data)"
   ]
  },
  {
   "cell_type": "code",
   "execution_count": 21,
   "metadata": {},
   "outputs": [
    {
     "data": {
      "text/plain": [
       "{'plan_valid_until': \"Fino all 'annullamento\",\n",
       " 'site_email': 'contatti@weavingtech.net',\n",
       " 'plan_order_id': 'c49ae422-7102-4ff4-95b9-ac66e93cde39',\n",
       " 'context': {'metaSiteId': 'be57c73f-a509-4490-a1f5-a45da5cc5043',\n",
       "  'activationId': 'f3c34a8a-0f9d-4592-b313-9abba689d129'},\n",
       " '_context': {'activation': {'id': 'f3c34a8a-0f9d-4592-b313-9abba689d129'},\n",
       "  'configuration': {'id': '0655f07d-6608-4fc6-9bfa-cfc706a9e2bd'},\n",
       "  'app': {'id': '1522827f-c56c-a5c9-2ac9-00f9e6ae12d3'},\n",
       "  'action': {'id': 'f96325e4-7ca7-d3e1-47f6-3598f82f5e9c'},\n",
       "  'trigger': {'key': 'wix_pricing_plans-plan_purchased'}},\n",
       " 'plan_description': 'Per i professionisti',\n",
       " 'contact': {'name': {'first': 'Rosario', 'last': 'Laface'},\n",
       "  'email': 'onslaught89@gmail.com',\n",
       "  'phones': [{'tag': 'UNTAGGED',\n",
       "    'formattedPhone': '3402396507',\n",
       "    'id': 'b8c73aa4-0799-47af-92bb-1f331720c824',\n",
       "    'primary': True,\n",
       "    'phone': '3402396507'}],\n",
       "  'address': {'addressLine': 'via San Vigilio 33',\n",
       "   'formattedAddress': 'via San Vigilio 33',\n",
       "   'subdivisions': []},\n",
       "  'emails': [{'id': 'bb8f286e-9e82-4d13-87e8-12e208249d79',\n",
       "    'tag': 'UNTAGGED',\n",
       "    'email': 'onslaught89@gmail.com',\n",
       "    'primary': True}],\n",
       "  'phone': '3402396507',\n",
       "  'addresses': [{'id': '460407a3-3723-4476-ba8b-b18a7a7a92ed',\n",
       "    'tag': 'UNTAGGED',\n",
       "    'address': {'addressLine': 'via San Vigilio 33',\n",
       "     'formattedAddress': 'via San Vigilio 33',\n",
       "     'subdivisions': []}}]},\n",
       " 'plan_id': '13231d00-6c01-434a-8cdc-0ae3aa5136cb',\n",
       " 'site_name': 'Weaving Tech',\n",
       " 'plan_title': 'Base',\n",
       " 'plan_price': {'value': '20.00', 'currency': 'EUR'},\n",
       " 'plan_start_date': '03/05/24',\n",
       " 'contact_id': '4d0e0573-730d-4ff8-9005-11c9df3ff86c',\n",
       " 'plan_cycle_duration': '1 mese'}"
      ]
     },
     "execution_count": 21,
     "metadata": {},
     "output_type": "execute_result"
    }
   ],
   "source": [
    "json.loads(data['body'].replace(\"\\\\\",\" \"))['data']"
   ]
  },
  {
   "cell_type": "code",
   "execution_count": 22,
   "metadata": {},
   "outputs": [
    {
     "data": {
      "text/plain": [
       "'Base'"
      ]
     },
     "execution_count": 22,
     "metadata": {},
     "output_type": "execute_result"
    }
   ],
   "source": [
    "json.loads(data['body'].replace(\"\\\\\",\" \"))['data']['plan_title']"
   ]
  },
  {
   "cell_type": "code",
   "execution_count": 23,
   "metadata": {},
   "outputs": [
    {
     "data": {
      "text/plain": [
       "'onslaught89@gmail.com'"
      ]
     },
     "execution_count": 23,
     "metadata": {},
     "output_type": "execute_result"
    }
   ],
   "source": [
    "email = json.loads(data['body'].replace(\"\\\\\",\" \"))['data']['contact']['email']\n",
    "email"
   ]
  },
  {
   "cell_type": "code",
   "execution_count": 24,
   "metadata": {},
   "outputs": [
    {
     "data": {
      "text/plain": [
       "'Rosario'"
      ]
     },
     "execution_count": 24,
     "metadata": {},
     "output_type": "execute_result"
    }
   ],
   "source": [
    "first_name = json.loads(data['body'].replace(\"\\\\\",\" \"))['data']['contact']['name']['first']\n",
    "first_name"
   ]
  },
  {
   "cell_type": "code",
   "execution_count": 25,
   "metadata": {},
   "outputs": [
    {
     "data": {
      "text/plain": [
       "'Laface'"
      ]
     },
     "execution_count": 25,
     "metadata": {},
     "output_type": "execute_result"
    }
   ],
   "source": [
    "last_name = json.loads(data['body'].replace(\"\\\\\",\" \"))['data']['contact']['name']['last']\n",
    "last_name"
   ]
  },
  {
   "cell_type": "code",
   "execution_count": 26,
   "metadata": {},
   "outputs": [
    {
     "data": {
      "text/plain": [
       "'3402396507'"
      ]
     },
     "execution_count": 26,
     "metadata": {},
     "output_type": "execute_result"
    }
   ],
   "source": [
    "phone = json.loads(data['body'].replace(\"\\\\\",\" \"))['data']['contact']['phones'][0]['phone']\n",
    "phone"
   ]
  },
  {
   "cell_type": "code",
   "execution_count": 27,
   "metadata": {},
   "outputs": [
    {
     "data": {
      "text/plain": [
       "'via San Vigilio 33'"
      ]
     },
     "execution_count": 27,
     "metadata": {},
     "output_type": "execute_result"
    }
   ],
   "source": [
    "address = json.loads(data['body'].replace(\"\\\\\",\" \"))['data']['contact']['address']['addressLine']\n",
    "address"
   ]
  },
  {
   "cell_type": "code",
   "execution_count": 28,
   "metadata": {},
   "outputs": [],
   "source": [
    "from dotenv import load_dotenv\n",
    "import os\n",
    "load_dotenv('.env', override=True)\n",
    "import boto3"
   ]
  },
  {
   "cell_type": "code",
   "execution_count": 29,
   "metadata": {},
   "outputs": [],
   "source": [
    "cognito_client = boto3.client('cognito-idp', region_name=os.getenv('AWS_REGION'))  \n",
    "dynamodb_client = boto3.resource('dynamodb', region_name=os.getenv('AWS_REGION'))\n",
    "table = dynamodb_client.Table(os.getenv('DYNAMODB_TABLE'))"
   ]
  },
  {
   "cell_type": "code",
   "execution_count": 30,
   "metadata": {},
   "outputs": [],
   "source": [
    "def add_to_dynamodb(email, tier):\n",
    "    '''\n",
    "    Update the tier of the recently added user.\n",
    "    ''' \n",
    "    key = {\"email\": email}\n",
    "    update_expression = \"SET tier = :new_value\"\n",
    "    expression_values = {\":new_value\": tier}\n",
    "    \n",
    "    # try:\n",
    "    response = table.update_item(\n",
    "        Key=key,\n",
    "        UpdateExpression=update_expression,\n",
    "        ExpressionAttributeValues=expression_values,\n",
    "    )\n",
    "    print(\"Item updated successfully:\", response)\n",
    "    # except Exception as e:\n",
    "    #     print(\"Error updating item:\", e)"
   ]
  },
  {
   "cell_type": "code",
   "execution_count": 31,
   "metadata": {},
   "outputs": [
    {
     "name": "stdout",
     "output_type": "stream",
     "text": [
      "Item updated successfully: {'ResponseMetadata': {'RequestId': '8V9O1UPOMBV3VKSV1D2MC2UGBVVV4KQNSO5AEMVJF66Q9ASUAAJG', 'HTTPStatusCode': 200, 'HTTPHeaders': {'server': 'Server', 'date': 'Sat, 04 May 2024 12:15:53 GMT', 'content-type': 'application/x-amz-json-1.0', 'content-length': '2', 'connection': 'keep-alive', 'x-amzn-requestid': '8V9O1UPOMBV3VKSV1D2MC2UGBVVV4KQNSO5AEMVJF66Q9ASUAAJG', 'x-amz-crc32': '2745614147'}, 'RetryAttempts': 0}}\n"
     ]
    }
   ],
   "source": [
    "add_to_dynamodb(\"onslaught89@gmail.com\", \"Base\")"
   ]
  },
  {
   "cell_type": "markdown",
   "metadata": {},
   "source": [
    "Cognito"
   ]
  },
  {
   "cell_type": "code",
   "execution_count": 44,
   "metadata": {},
   "outputs": [],
   "source": [
    "poolId = \"eu-south-1_NTg3Uh7jg\"\n",
    "password = \"test123test123!\"\n",
    "birthdate = \"01/01/1999\"\n",
    "group = \"physio\"\n",
    "prefix=\"+39\""
   ]
  },
  {
   "cell_type": "code",
   "execution_count": 45,
   "metadata": {},
   "outputs": [],
   "source": [
    "client = boto3.client('cognito-idp', region_name=\"eu-south-1\")\n",
    "\n",
    "\n",
    "response = client.admin_create_user(\n",
    "    UserPoolId=poolId,\n",
    "    Username=email,\n",
    "    TemporaryPassword= password,\n",
    "    UserAttributes=[{\"Name\": \"email\",\"Value\": email},  #see them here: https://docs.aws.amazon.com/cognito/latest/developerguide/user-pool-settings-attributes.html\n",
    "                    {\"Name\": \"email_verified\", \"Value\": \"true\"},\n",
    "                    {\"Name\": \"family_name\", \"Value\": first_name},\n",
    "                    {\"Name\": \"name\", \"Value\": last_name},\n",
    "                    {\"Name\": \"phone_number\", \"Value\": prefix+phone},\n",
    "                    {\"Name\": \"birthdate\", \"Value\": birthdate},\n",
    "                    {\"Name\": \"address\", \"Value\": address}\n",
    "    ]\n",
    ")\n"
   ]
  },
  {
   "cell_type": "code",
   "execution_count": 42,
   "metadata": {},
   "outputs": [],
   "source": [
    "\n",
    "reply = client.admin_add_user_to_group( UserPoolId=poolId, Username=email, GroupName=group )"
   ]
  },
  {
   "cell_type": "code",
   "execution_count": null,
   "metadata": {},
   "outputs": [],
   "source": []
  }
 ],
 "metadata": {
  "kernelspec": {
   "display_name": "Python 3",
   "language": "python",
   "name": "python3"
  },
  "language_info": {
   "codemirror_mode": {
    "name": "ipython",
    "version": 3
   },
   "file_extension": ".py",
   "mimetype": "text/x-python",
   "name": "python",
   "nbconvert_exporter": "python",
   "pygments_lexer": "ipython3",
   "version": "3.11.9"
  }
 },
 "nbformat": 4,
 "nbformat_minor": 2
}
